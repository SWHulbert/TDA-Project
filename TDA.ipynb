{
  "nbformat": 4,
  "nbformat_minor": 0,
  "metadata": {
    "colab": {
      "name": "TDA.ipynb",
      "provenance": [],
      "collapsed_sections": [],
      "include_colab_link": true
    },
    "kernelspec": {
      "name": "python2",
      "display_name": "Python 2"
    }
  },
  "cells": [
    {
      "cell_type": "markdown",
      "metadata": {
        "id": "view-in-github",
        "colab_type": "text"
      },
      "source": [
        "<a href=\"https://colab.research.google.com/github/SWHulbert/TDA-Project/blob/master/TDA.ipynb\" target=\"_parent\"><img src=\"https://colab.research.google.com/assets/colab-badge.svg\" alt=\"Open In Colab\"/></a>"
      ]
    },
    {
      "cell_type": "code",
      "metadata": {
        "id": "9PNsbwKzd_Fi",
        "colab_type": "code",
        "colab": {}
      },
      "source": [
        "%%capture\n",
        "!pip install ripser\n",
        "!pip install persim\n",
        "!git clone https://github.com/SWHulbert/TDA-Project.git\n",
        "import numpy as np\n",
        "import pandas as pd\n",
        "import matplotlib.pyplot as plt\n",
        "import random as rnd\n",
        "from scipy import ndimage\n",
        "import PIL\n",
        "from persim import plot_diagrams\n",
        "from ripser import ripser, lower_star_img"
      ],
      "execution_count": 0,
      "outputs": []
    },
    {
      "cell_type": "code",
      "metadata": {
        "id": "9E8eTZdYRIEc",
        "colab_type": "code",
        "colab": {}
      },
      "source": [
        "dataO = np.genfromtxt('/content/TDA-Project/letters.csv', dtype=int, delimiter=',', skip_header=0) # dataOriginal\n",
        "dataT = np.genfromtxt('/content/TDA-Project/letters.csv', dtype=int, delimiter=',', skip_header=0) # dataTest\n",
        "dataTBackup = np.genfromtxt('/content/TDA-Project/letters.csv', dtype=int, delimiter=',', skip_header=0) # Copy of dataTest just in case things go wrong\n",
        "\n",
        "# Scanning functions\n",
        "# Currently these functions take an int from 0-31, this a should be renamed to letterIndex\n",
        "\n",
        "matrix = np.full((10, 10), 100)\n",
        "\n",
        "# Left to Right Scan\n",
        "def LRScan(a, data=dataO):\n",
        "  global matrix\n",
        "  matrix = np.full((10, 10), 100)\n",
        "  letters = data.copy()[int(a)][:]\n",
        "  for k in range(1, 101): # range(1, 101) goes from 1 to 100\n",
        "    if letters[k] == 1:\n",
        "      row = int((k-1)/10)\n",
        "      column = (k-1)%10\n",
        "      matrix[row, column]=column # for scanning left to right\n",
        "  dgm = lower_star_img(matrix)\n",
        "  for i in dgm:\n",
        "    for x in range(0, 2):\n",
        "      if i[x] == float('inf'):\n",
        "        i[x] = 100\n",
        "  return dgm\n",
        "    \n",
        "# Right to Left Scan\n",
        "def RLScan(a, data=dataO):\n",
        "  global matrix\n",
        "  matrix = np.full((10, 10), 100)\n",
        "  letters = data.copy()[int(a)][:]\n",
        "  for k in range(1, 101): # range(1, 101) goes from 1 to 100\n",
        "    if letters[k] == 1:\n",
        "      row = int((k-1)/10)\n",
        "      column = (k-1)%10\n",
        "      matrix[row,column]=9-column # for scanning right to left\n",
        "  dgm = lower_star_img(matrix)\n",
        "  for i in dgm:\n",
        "    for x in range(0, 2):\n",
        "      if i[x] == float('inf'):\n",
        "        i[x] = 100\n",
        "  return dgm\n",
        "\n",
        "# Top to Bottom Scan\n",
        "def TBScan(a, data=dataO):\n",
        "  global matrix\n",
        "  matrix = np.full((10, 10), 100)\n",
        "  letters = data.copy()[int(a)][:]\n",
        "  for k in range(1, 101): #range(1, 101) goes from 1 to 100\n",
        "    if letters[k] == 1:\n",
        "      row = int((k-1)/10)\n",
        "      column = (k-1)%10\n",
        "      matrix[row, column]=row\n",
        "  dgm = lower_star_img(matrix)\n",
        "  for i in dgm:\n",
        "    for x in range(0, 2):\n",
        "      if i[x] == float('inf'):\n",
        "        i[x] = 100\n",
        "  return dgm\n",
        "  \n",
        "# Bottom to Top Scan\n",
        "def BTScan(a, data=dataO):\n",
        "  global matrix\n",
        "  matrix = np.full((10, 10), 100)\n",
        "  letters = data.copy()[int(a)][:]\n",
        "  for k in range(1, 101): #range(1, 101) goes from 1 to 100\n",
        "    if letters[k] == 1:\n",
        "      row = (int((k-1)/10))\n",
        "      column = ((k-1)%10)\n",
        "      matrix[row, column]=(9-row)\n",
        "  dgm = lower_star_img(matrix)\n",
        "  for i in dgm:\n",
        "    for x in range(0, 2):\n",
        "      if i[x] == float('inf'):\n",
        "        i[x] = 100\n",
        "  return dgm\n",
        "  \n",
        "# Diagonal Bottom-Right to Top-Left Scan\n",
        "def diagBRTL(a, data=dataO):\n",
        "  letters = data.copy()[int(a)][:]\n",
        "  letters1 = letters[1:]\n",
        "  letters1 = letters1.reshape(10,10)\n",
        "  for i in range(0,10):\n",
        "        for j in range(0,10):\n",
        "            if letters1[i][j] == 1:\n",
        "                letters1[i][j] = ((10-i) + (10 - j))\n",
        "            else:\n",
        "                letters1[i][j]=100\n",
        "  dgm = lower_star_img(letters1)\n",
        "  for i in dgm:\n",
        "    for x in range(0, 2):\n",
        "      if i[x] == float('inf'):\n",
        "        i[x] = 100\n",
        "  return dgm\n",
        "  \n",
        "\n",
        "# Diagonal Top-Left to Bottom-Right Scan\n",
        "def diagTLBR(a, data=dataO):\n",
        "  letters = data.copy()[int(a)][:]\n",
        "  letters1 = letters[1:] # Make this matrix?\n",
        "  letters1 = letters1.reshape(10,10)\n",
        "  for i in range(0,10):\n",
        "        for j in range(0,10):\n",
        "            if letters1[i][j] == 1:\n",
        "                letters1[i][j] = i + j\n",
        "            else:\n",
        "                letters1[i][j]=100\n",
        "  dgm = lower_star_img(letters1)\n",
        "  for i in dgm:\n",
        "    for x in range(0, 2):\n",
        "      if i[x] == float('inf'):\n",
        "        i[x] = 100\n",
        "  return dgm\n",
        "\n",
        "\n",
        "# Diagonal Bottom-Left to Top-Right Scan\n",
        "def diagBLTR(a, data=dataO):\n",
        "  letters = data.copy()[int(a)][:]\n",
        "  letters1 = letters[1:]\n",
        "  letters1 = letters1.reshape(10,10)\n",
        "  for i in range(0,10):\n",
        "        for j in range(0,10):\n",
        "            if letters1[i][j] == 1:\n",
        "                letters1[i][j] = (10-i)+j\n",
        "            else:\n",
        "                letters1[i][j]=100\n",
        "  dgm = lower_star_img(letters1)\n",
        "  for i in dgm:\n",
        "    for x in range(0, 2):\n",
        "      if i[x] == float('inf'):\n",
        "        i[x] = 100\n",
        "  return dgm\n",
        "\n",
        "\n",
        "# Diagonal Top-Right to Bottom-Left Scan\n",
        "def diagTRBL(a, data=dataO):\n",
        "  letters = data.copy()[int(a)][:]\n",
        "  letters1 = letters[1:]\n",
        "  letters1 = letters1.reshape(10,10)\n",
        "  for i in range(0,10):\n",
        "        for j in range(0,10):\n",
        "            if letters1[i][j] == 1:\n",
        "                letters1[i][j] = (10-j)+i\n",
        "            else:\n",
        "                letters1[i][j]=100\n",
        "  dgm = lower_star_img(letters1)\n",
        "  for i in dgm:\n",
        "    for x in range(0, 2):\n",
        "      if i[x] == float('inf'):\n",
        "        i[x] = 100\n",
        "  return dgm\n",
        "\n",
        "# Minesweeper Scan\n",
        "def MScan(a, data=dataO):\n",
        "  global matrix\n",
        "  matrix = np.full((10, 10), 100)\n",
        "  letters = data.copy()[int(a)][:]\n",
        "  for k in range(1, 101): # range(1, 101) goes from 1 to 100\n",
        "    if letters[k] == 1:\n",
        "      row = int((k-1)/10)\n",
        "      column = (k-1)%10\n",
        "      sum = -1\n",
        "      for xOffset in range(-1, 2):\n",
        "         for yOffset in range(-1, 2):\n",
        "            n = (row + xOffset) * 10 + (column + yOffset) + 1\n",
        "            if (row + xOffset) >= 0 and (row + xOffset) < 10 and (column + yOffset) >= 0 and (column + yOffset) < 10:\n",
        "              if letters[n] == 1 and n > 0:\n",
        "                sum += 1\n",
        "      matrix[row, column] = sum\n",
        "  dgm = lower_star_img(matrix)\n",
        "  for i in dgm:\n",
        "    for x in range(0, 2):\n",
        "      if i[x] == float('inf'):\n",
        "        i[x] = 100\n",
        "  return dgm"
      ],
      "execution_count": 0,
      "outputs": []
    },
    {
      "cell_type": "code",
      "metadata": {
        "id": "-iGymzGwedu5",
        "colab_type": "code",
        "colab": {}
      },
      "source": [
        "# This function scans data, then calculates the total number of classes and the average length of the class\n",
        "# It then records these 2 values in a dictionary with a key matching the respective scan\n",
        "# These dictionaries then all get appended into a list, thus listIndex == letterIndex\n",
        "\n",
        "\n",
        "def loadResults(data):\n",
        "  scanResults = []\n",
        "  for td in xrange(len(data)):\n",
        "    tempDict = {}\n",
        "    tempResult = np.array(BTScan(td, data))\n",
        "    resultLen = tempResult.shape[0]\n",
        "    sum = 0\n",
        "    for i in xrange(resultLen):\n",
        "      sum += tempResult[i][1]-tempResult[i][0]\n",
        "    resultAvg = sum*1.0/resultLen*1.0\n",
        "    tempDict['bt'] = (resultLen, resultAvg)\n",
        "    \n",
        "    tempResult = np.array(TBScan(td, data))\n",
        "    resultLen = tempResult.shape[0]\n",
        "    sum = 0\n",
        "    for i in xrange(resultLen):\n",
        "      sum += tempResult[i][1]-tempResult[i][0]\n",
        "    resultAvg = sum*1.0/resultLen*1.0\n",
        "    tempDict['tb'] = (resultLen, resultAvg)\n",
        "    \n",
        "    tempResult = np.array(LRScan(td, data))\n",
        "    resultLen = tempResult.shape[0]\n",
        "    sum = 0\n",
        "    for i in xrange(resultLen):\n",
        "      sum += tempResult[i][1]-tempResult[i][0]\n",
        "    resultAvg = sum*1.0/resultLen*1.0\n",
        "    tempDict['lr'] = (resultLen, resultAvg)\n",
        "    \n",
        "    tempResult = np.array(RLScan(td, data))\n",
        "    resultLen = tempResult.shape[0]\n",
        "    sum = 0\n",
        "    for i in xrange(resultLen):\n",
        "      sum += tempResult[i][1]-tempResult[i][0]\n",
        "    resultAvg = sum*1.0/resultLen*1.0\n",
        "    tempDict['rl'] = (resultLen, resultAvg)\n",
        "    \n",
        "    tempResult = np.array(diagTLBR(td, data))\n",
        "    resultLen = tempResult.shape[0]\n",
        "    sum = 0\n",
        "    for i in xrange(resultLen):\n",
        "      sum += tempResult[i][1]-tempResult[i][0]\n",
        "    resultAvg = sum*1.0/resultLen*1.0\n",
        "    tempDict['diagTLBR'] = (resultLen, resultAvg)\n",
        "    \n",
        "    tempResult = np.array(diagBRTL(td, data))\n",
        "    resultLen = tempResult.shape[0]\n",
        "    sum = 0\n",
        "    for i in xrange(resultLen):\n",
        "      sum += tempResult[i][1]-tempResult[i][0]\n",
        "    resultAvg = sum*1.0/resultLen*1.0\n",
        "    tempDict['diagBRTL'] = (resultLen, resultAvg)\n",
        "    \n",
        "    tempResult = np.array(MScan(td, data))\n",
        "    resultLen = tempResult.shape[0]\n",
        "    sum = 0\n",
        "    for i in xrange(resultLen):\n",
        "      sum += tempResult[i][1]-tempResult[i][0]\n",
        "    resultAvg = sum*1.0/resultLen*1.0\n",
        "    tempDict['m'] = (resultLen, resultAvg)\n",
        "    \n",
        "    tempResult = np.array(diagTRBL(td, data))\n",
        "    resultLen = tempResult.shape[0]\n",
        "    sum = 0\n",
        "    for i in xrange(resultLen):\n",
        "      sum += tempResult[i][1]-tempResult[i][0]\n",
        "    resultAvg = sum*1.0/resultLen*1.0\n",
        "    tempDict['diagTRBL'] = (resultLen, resultAvg)\n",
        "    \n",
        "    tempResult = np.array(diagBLTR(td, data))\n",
        "    resultLen = tempResult.shape[0]\n",
        "    sum = 0\n",
        "    for i in xrange(resultLen):\n",
        "      sum += tempResult[i][1]-tempResult[i][0]\n",
        "    resultAvg = sum*1.0/resultLen*1.0\n",
        "    tempDict['diagBLTR'] = (resultLen, resultAvg)\n",
        "    scanResults.append(tempDict)\n",
        "  return scanResults\n",
        "\n",
        "# These result lists have the values for all indices in dataO and dataT\n",
        "resultListO = loadResults(data=dataO) # resultListOriginal\n",
        "resultListT = loadResults(data=dataT) # resultListTest"
      ],
      "execution_count": 0,
      "outputs": []
    },
    {
      "cell_type": "code",
      "metadata": {
        "id": "JKBvvFmSoa-F",
        "colab_type": "code",
        "outputId": "065687bc-614f-47fa-a22f-3ae8121c8e98",
        "colab": {
          "base_uri": "https://localhost:8080/",
          "height": 35
        }
      },
      "source": [
        "# Below are a bunch of function that act on our list of dictionary values above\n",
        "\n",
        "\n",
        "# Calculate distance between letterIndex = x and letterIndex = y\n",
        "def vectorDistance(x, y):\n",
        "  sum = 0.0\n",
        "  for a in xrange(len(resultListO[x])):\n",
        "    sum += (resultListO[x].values()[a][0] - resultListT[y].values()[a][0])**2 + (resultListO[x].values()[a][1] - resultListT[y].values()[a][1])**2\n",
        "    dist = sum ** 0.5\n",
        "  return dist\n",
        "\n",
        "\n",
        "# Take a letterIndex = y from dataT, matches it with values stored in resultListO\n",
        "# Returns a 3-tuple, with the original letterIndex, the guess letterIndex, and the distance between them\n",
        "def guess(y):\n",
        "  distList = []\n",
        "  for j in range(0,32):\n",
        "    distList.append(vectorDistance(j,y))\n",
        "    guessLetter = min(distList)\n",
        "  return (y, distList.index(guessLetter), guessLetter)\n",
        "\n",
        "\n",
        "# This noise function flips bits (from 0 to 1, or from 1 to 0) in dataT with noisePercent = b\n",
        "# b should be renamed to noisePercent\n",
        "def noise(b=0.04):\n",
        "  for k in dataT:\n",
        "    for i in range(len(k)):\n",
        "      if i > 0 and rnd.random() < b:\n",
        "        k[i] = 1 - k[i]\n",
        "\n",
        "        \n",
        "# denoiser NEEDS TO BE FIXED\n",
        "def denoiser():\n",
        "  global dataT\n",
        "  data = dataT.copy()\n",
        "  for a in range(32):\n",
        "    letters = data[int(a)][:]\n",
        "    for k in range(len(letters)):\n",
        "      if letters[k] == 1 and k > 0:\n",
        "        if k < 11:\n",
        "          if k%10 == 1:\n",
        "            sum = letters[k+1] + letters[k+10] + [k+11]\n",
        "          elif k%10 == 0:\n",
        "            sum = letters[k-1] + letters[k+10] + letters[k+9]\n",
        "          else:\n",
        "            sum = letters[k-1] + letters[k+1] + letters[k+9] + letters[k+10] + letters[k+11]\n",
        "        elif k > 90:\n",
        "          if k%10 == 1:\n",
        "            sum = letters[k+1] + letters[k-9] + letters[k-10]\n",
        "          elif k%10 == 0:\n",
        "            sum = letters[k-1] + letters[k-10] + letters[k-11]\n",
        "          else:\n",
        "            sum = letters[k-1] + letters[k+1] + letters[k-9] + letters[k-10] + letters[k-11]\n",
        "        else:\n",
        "          if k%10 == 1:\n",
        "            sum = letters[k+1] + letters[k-9] + letters[k-10] + letters[k+10] + letters[k+11]\n",
        "          elif k%10 == 0:\n",
        "            sum = letters[k-1] + letters[k-10] + letters[k-11] + letters[k+9] + letters[k+10]\n",
        "          else:\n",
        "            sum = letters[k-1] + letters[k+1] + letters[k-9] + letters[k-10] + letters[k-11] + letters[k+9] + letters[k+10] + letters[k+11]\n",
        "        if (sum == 0):\n",
        "          letters[k] = 0\n",
        "  dataT = data\n",
        "  return dataT\n",
        "\n",
        "\n",
        "# correctCheck takes a letterIndex = a, and a noisePercent = b\n",
        "# It then guesses what letterIndex = a is after it's been through the noise\n",
        "# It returns a 2-tuple with values (letterIndex = a, guessLetter)\n",
        "# It only exists to be used in conjunction with perCorrect function\n",
        "def correctCheck(a, b=0.04, denoise=True):\n",
        "  global resultListT\n",
        "  global dataT\n",
        "  dataT = np.genfromtxt('/content/TDA-Project/letters.csv', dtype=int, delimiter=',', skip_header=0)\n",
        "  noise(b)\n",
        "  if denoise:\n",
        "    denoiser()\n",
        "  resultListT = loadResults(data=dataT)\n",
        "  check = guess(a)\n",
        "  #print(check[0], check[1])   # Uncomment this line if you want to see predictions for perCorrect below\n",
        "  return(check[0], check[1])\n",
        "\n",
        "\n",
        "# perCorrect calculates the percent Correct guessed for letterIndex = a, noisePercent = b, and totalGuesses = c\n",
        "# It then returns a simple percentage, (total # correct)/(totalGuesses)\n",
        "def perCorrect(a, b=0.04, c=10, denoise=True):\n",
        "  checkList = []\n",
        "  sum = 0.0\n",
        "  for i in range(c):\n",
        "    checkList.append(correctCheck(a, b, denoise))\n",
        "  for k in checkList:\n",
        "    if k[0] == k[1]:\n",
        "      sum += 1    \n",
        "  return float((sum/c))\n",
        "\n",
        "\n",
        "# Try for yourself! This will give you the percent Correct guessed for all letters in the alphabet\n",
        "# With noisePercent = .04, totalGuesses = 10\n",
        "# This function may take a minute to run\n",
        "'''WARNING:\n",
        "DO NOT MAKE TOTALGUESSES TOO BIG'''\n",
        "#for y in range(26):\n",
        "  #print(y, perCorrect(y, 0.04, 100))\n",
        "  \n",
        "\n",
        "\n",
        "# It is important to note that everytime you run this function, it re-noises\n",
        "# So if you run it twice in a row you'll get a slight variance in % correct"
      ],
      "execution_count": 0,
      "outputs": [
        {
          "output_type": "execute_result",
          "data": {
            "text/plain": [
              "'WARNING:\\nDO NOT MAKE TOTALGUESSES TOO BIG'"
            ]
          },
          "metadata": {
            "tags": []
          },
          "execution_count": 110
        }
      ]
    },
    {
      "cell_type": "code",
      "metadata": {
        "id": "WDUtiiILKm7F",
        "colab_type": "code",
        "outputId": "dca7bc05-ae74-4ffc-fc9e-8a6bea0ba8fb",
        "colab": {
          "base_uri": "https://localhost:8080/",
          "height": 543
        }
      },
      "source": [
        "# Below here is just plotting stuff, if something is commented out its to keep things clean in the output\n",
        "\n",
        "\n",
        "#dataT = np.genfromtxt('/content/TDA-Project/letters.csv', dtype=int, delimiter=',', skip_header=0)\n",
        "#noise(0.04)\n",
        "x = 19\n",
        "\n",
        "denoiser()\n",
        "MScan(x, data=dataT)\n",
        "print(matrix)\n",
        "dgm = lower_star_img(matrix)\n",
        "#should print letters1 for diagonal matrix\n",
        "\n",
        "plt.figure(figsize=(10, 5))\n",
        "plt.subplot(121)\n",
        "plt.imshow(matrix)\n",
        "plt.colorbar()\n",
        "plt.title('Test Image')\n",
        "#plt.subplot(122)\n",
        "#plot_diagrams(dgm)\n",
        "plt.title('0-D Persistence Diagram')\n",
        "plt.tight_layout()\n",
        "plt.show()"
      ],
      "execution_count": 0,
      "outputs": [
        {
          "output_type": "stream",
          "text": [
            "[[  1 100 100 100 100   3 100 100 100 100]\n",
            " [100   2   2   2   3   3   3   1 100 100]\n",
            " [100 100 100 100 100 100 100 100 100 100]\n",
            " [100 100 100 100   1 100 100 100 100 100]\n",
            " [100 100 100 100   2 100 100 100 100 100]\n",
            " [100 100 100 100   2 100 100 100 100 100]\n",
            " [100 100 100 100   2 100 100 100 100 100]\n",
            " [100 100 100 100   2 100 100 100 100 100]\n",
            " [100 100 100 100   1 100 100 100 100 100]\n",
            " [100 100 100 100 100 100 100 100 100 100]]\n"
          ],
          "name": "stdout"
        },
        {
          "output_type": "display_data",
          "data": {
            "image/png": "[encoded data removed]",
            "text/plain": [
              "<Figure size 720x360 with 2 Axes>"
            ]
          },
          "metadata": {
            "tags": []
          }
        }
      ]
    },
    {
      "cell_type": "code",
      "metadata": {
        "id": "ozL-TdPlvxch",
        "colab_type": "code",
        "outputId": "1b3092af-16da-4e57-ec17-0dbc46701c54",
        "colab": {
          "base_uri": "https://localhost:8080/",
          "height": 139
        }
      },
      "source": [
        "# Possible future stuff\n",
        "\n",
        "''' To Do List:\n",
        "Add better comments and explanation to the code\n",
        "Change variable names to better represent what they are instead of using letters\n",
        "More Scans(?)/More unique Scans/Better Measurements\n",
        "General optimization to guess better\n",
        "Denoising possible\n",
        "Check scans for highest perCorrect and optimize'''\n",
        "\n",
        "\n",
        "denoiser()"
      ],
      "execution_count": 0,
      "outputs": [
        {
          "output_type": "execute_result",
          "data": {
            "text/plain": [
              "array([[ 1,  0,  0, ...,  0,  0,  0],\n",
              "       [ 2,  0,  0, ...,  0,  0,  0],\n",
              "       [ 3,  1,  0, ...,  0,  0,  0],\n",
              "       ...,\n",
              "       [30,  0,  0, ...,  0,  0,  0],\n",
              "       [31,  0,  0, ...,  0,  0,  0],\n",
              "       [32,  0,  0, ...,  0,  0,  0]])"
            ]
          },
          "metadata": {
            "tags": []
          },
          "execution_count": 28
        }
      ]
    },
    {
      "cell_type": "code",
      "metadata": {
        "id": "mMhTDmz2r6oy",
        "colab_type": "code",
        "outputId": "429c8bbd-5ef3-4a03-ff66-5a5f2112b6e6",
        "colab": {
          "base_uri": "https://localhost:8080/",
          "height": 208
        }
      },
      "source": [
        "for y in range(26):\n",
        "  print(y, perCorrect(y, 0.04, 50))"
      ],
      "execution_count": 0,
      "outputs": [
        {
          "output_type": "stream",
          "text": [
            "(0, 0.3)\n",
            "(1, 0.4)\n",
            "(2, 0.26)\n",
            "(3, 0.14)\n",
            "(4, 0.48)\n",
            "(5, 0.38)\n",
            "(6, 0.42)\n",
            "(7, 0.56)\n",
            "(8, 0.58)\n",
            "(9, 0.68)\n",
            "(10, 0.68)\n"
          ],
          "name": "stdout"
        }
      ]
    },
    {
      "cell_type": "code",
      "metadata": {
        "id": "MKQgvDRBx1KI",
        "colab_type": "code",
        "outputId": "838f49a6-36e8-41de-e80d-ce7909b74a34",
        "colab": {
          "base_uri": "https://localhost:8080/",
          "height": 35
        }
      },
      "source": [
        "for y in range(26):\n",
        "  print(y, perCorrect(y, 0.04, 50, denoise=False))"
      ],
      "execution_count": 0,
      "outputs": [
        {
          "output_type": "execute_result",
          "data": {
            "text/plain": [
              "0.52"
            ]
          },
          "metadata": {
            "tags": []
          },
          "execution_count": 114
        }
      ]
    },
    {
      "cell_type": "code",
      "metadata": {
        "id": "ei5IXhQUXaZC",
        "colab_type": "code",
        "outputId": "bb752e32-72fd-410d-a968-2ef58e5d8c6d",
        "colab": {
          "base_uri": "https://localhost:8080/",
          "height": 35
        }
      },
      "source": [
        "len(dataT)"
      ],
      "execution_count": 0,
      "outputs": [
        {
          "output_type": "execute_result",
          "data": {
            "text/plain": [
              "32"
            ]
          },
          "metadata": {
            "tags": []
          },
          "execution_count": 311
        }
      ]
    },
    {
      "cell_type": "code",
      "metadata": {
        "id": "mDMeVneuxgbJ",
        "colab_type": "code",
        "outputId": "ff12e386-1c5a-4575-a4eb-1528634fc3e3",
        "colab": {
          "base_uri": "https://localhost:8080/",
          "height": 69
        }
      },
      "source": [
        "MScan(19)"
      ],
      "execution_count": 0,
      "outputs": [
        {
          "output_type": "execute_result",
          "data": {
            "text/plain": [
              "array([[  1.,   3.],\n",
              "       [  1.,   4.],\n",
              "       [  1., 100.]])"
            ]
          },
          "metadata": {
            "tags": []
          },
          "execution_count": 15
        }
      ]
    },
    {
      "cell_type": "code",
      "metadata": {
        "id": "balRcuHBy-Lz",
        "colab_type": "code",
        "colab": {}
      },
      "source": [
        ""
      ],
      "execution_count": 0,
      "outputs": []
    }
  ]
}